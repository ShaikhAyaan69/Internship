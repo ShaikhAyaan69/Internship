{
  "nbformat": 4,
  "nbformat_minor": 0,
  "metadata": {
    "colab": {
      "provenance": [],
      "authorship_tag": "ABX9TyODbE1ODpQueFKJ8eMd9A97",
      "include_colab_link": true
    },
    "kernelspec": {
      "name": "python3",
      "display_name": "Python 3"
    },
    "language_info": {
      "name": "python"
    }
  },
  "cells": [
    {
      "cell_type": "markdown",
      "metadata": {
        "id": "view-in-github",
        "colab_type": "text"
      },
      "source": [
        "<a href=\"https://colab.research.google.com/github/ShaikhAyaan69/Internship/blob/main/Task_1/Pandas.ipynb\" target=\"_parent\"><img src=\"https://colab.research.google.com/assets/colab-badge.svg\" alt=\"Open In Colab\"/></a>"
      ]
    },
    {
      "cell_type": "markdown",
      "source": [
        "### **Program to create *One Dimensional Array* using Pandas Module**"
      ],
      "metadata": {
        "id": "MpjHOw84tvQb"
      }
    },
    {
      "cell_type": "code",
      "source": [
        "import pandas as pd\n",
        "ds = pd.Series([1,2,3,4,5])\n",
        "print(ds)"
      ],
      "metadata": {
        "colab": {
          "base_uri": "https://localhost:8080/"
        },
        "id": "3syMhb0Ht747",
        "outputId": "89df8bad-bced-4ea6-b2f7-e5b2df82efd5"
      },
      "execution_count": null,
      "outputs": [
        {
          "output_type": "stream",
          "name": "stdout",
          "text": [
            "0    1\n",
            "1    2\n",
            "2    3\n",
            "3    4\n",
            "4    5\n",
            "dtype: int64\n"
          ]
        }
      ]
    },
    {
      "cell_type": "markdown",
      "source": [
        "### **Program to print *Array values* elements wise**"
      ],
      "metadata": {
        "id": "FJn2p0FiuXvP"
      }
    },
    {
      "cell_type": "code",
      "source": [
        "import pandas as pd\n",
        "disc = pd.DataFrame({'A':[3,5,2,6],'B':[7,3,8,4],'C':[3,6,7,2]})\n",
        "print(disc)"
      ],
      "metadata": {
        "colab": {
          "base_uri": "https://localhost:8080/"
        },
        "id": "RG0IbXRju6WB",
        "outputId": "ee1a7c4b-49a8-4500-8d09-ffd2cffdfcf7"
      },
      "execution_count": null,
      "outputs": [
        {
          "output_type": "stream",
          "name": "stdout",
          "text": [
            "   A  B  C\n",
            "0  3  7  3\n",
            "1  5  3  6\n",
            "2  2  8  7\n",
            "3  6  4  2\n"
          ]
        }
      ]
    },
    {
      "cell_type": "markdown",
      "source": [
        "### **Program for** ***Adding Two Pandas Series*** "
      ],
      "metadata": {
        "id": "KuJkbwu6wo_a"
      }
    },
    {
      "cell_type": "code",
      "source": [
        "import pandas as pd\n",
        "num1 = pd.Series ([3,4,5,6]) \n",
        "num2 = pd.Series ([4,3,7,2]) \n",
        "add = num1+num2\n",
        "print(add) "
      ],
      "metadata": {
        "colab": {
          "base_uri": "https://localhost:8080/"
        },
        "id": "xmOB2H5bxAGZ",
        "outputId": "f179c132-cec6-45bf-d83b-9cd2840a9152"
      },
      "execution_count": null,
      "outputs": [
        {
          "output_type": "stream",
          "name": "stdout",
          "text": [
            "0     7\n",
            "1     7\n",
            "2    12\n",
            "3     8\n",
            "dtype: int64\n"
          ]
        }
      ]
    },
    {
      "cell_type": "markdown",
      "source": [
        "### **Program to *Compare Elements of Two Pandas Series*** "
      ],
      "metadata": {
        "id": "J9il3uxPyWLV"
      }
    },
    {
      "cell_type": "code",
      "source": [
        "import pandas as pd\n",
        "Ps1 = pd.Series([3,4,6,9])\n",
        "Ps2 = pd.Series([8,3,5,9])\n",
        "print(Ps1)\n",
        "print(Ps2)\n",
        "print(\"Comparison between Ps1 and Ps2 is\")\n",
        "print(Ps1==Ps2)\n",
        "print(Ps1<Ps2)\n",
        "print(Ps1>Ps2) "
      ],
      "metadata": {
        "colab": {
          "base_uri": "https://localhost:8080/"
        },
        "id": "qxYYy7IVyyjv",
        "outputId": "d10ad468-ccbe-414b-9d98-410520548037"
      },
      "execution_count": null,
      "outputs": [
        {
          "output_type": "stream",
          "name": "stdout",
          "text": [
            "0    3\n",
            "1    4\n",
            "2    6\n",
            "3    9\n",
            "dtype: int64\n",
            "0    8\n",
            "1    3\n",
            "2    5\n",
            "3    9\n",
            "dtype: int64\n",
            "Comparison between Ps1 and Ps2 is\n",
            "0    False\n",
            "1    False\n",
            "2    False\n",
            "3     True\n",
            "dtype: bool\n",
            "0     True\n",
            "1    False\n",
            "2    False\n",
            "3    False\n",
            "dtype: bool\n",
            "0    False\n",
            "1     True\n",
            "2     True\n",
            "3    False\n",
            "dtype: bool\n"
          ]
        }
      ]
    },
    {
      "cell_type": "markdown",
      "source": [
        "### **Program to display *DataFrames from Dictionary Data***"
      ],
      "metadata": {
        "id": "k9Y-KN1K0YXZ"
      }
    },
    {
      "cell_type": "code",
      "source": [
        "import pandas as pd\n",
        "data = {'Names':['Ayaan','Wasim','Moin','Rahul'],\n",
        "        'Address':['Junnar','Pune','Alephata','Mumbai']}\n",
        "labels = ['A','B','C','D']\n",
        "\n",
        "info = pd.DataFrame(data, index = labels)\n",
        "print(info) "
      ],
      "metadata": {
        "colab": {
          "base_uri": "https://localhost:8080/"
        },
        "id": "_2innbLS00hc",
        "outputId": "5c4df874-16bf-4406-bafd-ad90d7a2b6ca"
      },
      "execution_count": null,
      "outputs": [
        {
          "output_type": "stream",
          "name": "stdout",
          "text": [
            "   Names   Address\n",
            "A  Ayaan    Junnar\n",
            "B  Wasim      Pune\n",
            "C   Moin  Alephata\n",
            "D  Rahul    Mumbai\n"
          ]
        }
      ]
    }
  ]
}