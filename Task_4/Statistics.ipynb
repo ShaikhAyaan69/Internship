{
  "nbformat": 4,
  "nbformat_minor": 0,
  "metadata": {
    "colab": {
      "provenance": [],
      "mount_file_id": "1EE1SSOGx0Pa-i_RQsuTiKh7O65qx705x",
      "authorship_tag": "ABX9TyOXkQncMGL8Ua5b33F+LFIc",
      "include_colab_link": true
    },
    "kernelspec": {
      "name": "python3",
      "display_name": "Python 3"
    },
    "language_info": {
      "name": "python"
    }
  },
  "cells": [
    {
      "cell_type": "markdown",
      "metadata": {
        "id": "view-in-github",
        "colab_type": "text"
      },
      "source": [
        "<a href=\"https://colab.research.google.com/github/ShaikhAyaan69/Internship/blob/main/Task_4/Statistics.ipynb\" target=\"_parent\"><img src=\"https://colab.research.google.com/assets/colab-badge.svg\" alt=\"Open In Colab\"/></a>"
      ]
    },
    {
      "cell_type": "code",
      "execution_count": 1,
      "metadata": {
        "colab": {
          "base_uri": "https://localhost:8080/",
          "height": 1000
        },
        "id": "a50h8iLCh4J7",
        "outputId": "97a18f2e-36e9-42b1-8543-9ce466102309"
      },
      "outputs": [
        {
          "output_type": "execute_result",
          "data": {
            "text/plain": [
              "    Stud_Roll_no.  Maths_Score  Reading_Score  Writing_Score  Placement_Score  \\\n",
              "0               1         82.0           64.0           98.0             81.0   \n",
              "1               2         74.0           86.0           98.0             86.0   \n",
              "2               3         76.0           83.0           76.0             78.0   \n",
              "3               4         25.0           73.0           77.0             58.0   \n",
              "4               5         93.0           95.0           86.0             91.0   \n",
              "5               6         75.0           83.0           97.0             85.0   \n",
              "6               7         83.0           84.0           91.0             86.0   \n",
              "7               8         72.0           90.0           71.0             78.0   \n",
              "8               9         86.0           88.0           94.0             89.0   \n",
              "9              10         92.0           76.0           98.0             89.0   \n",
              "10             11         87.0           87.0            NaN             87.0   \n",
              "11             12         97.0           97.0           94.0             96.0   \n",
              "12             13         82.0           93.0           95.0             90.0   \n",
              "13             14         89.0           83.0           88.0             87.0   \n",
              "14             15         32.0           26.0           29.0             29.0   \n",
              "15             16         99.0           96.0           80.0             92.0   \n",
              "16             17         73.0           86.0           83.0             81.0   \n",
              "17             18         71.0           65.0           78.0             71.0   \n",
              "18             19         71.0           88.0           74.0             78.0   \n",
              "19             20         63.0           86.0           94.0             81.0   \n",
              "20             21         68.0           76.0           81.0             75.0   \n",
              "21             22         73.0           93.0           73.0             80.0   \n",
              "22             23         90.0           69.0           61.0             73.0   \n",
              "23             24          NaN           66.0           79.0             73.0   \n",
              "24             25         97.0           63.0           67.0             76.0   \n",
              "25             26         85.0           96.0           99.0             93.0   \n",
              "26             27         69.0           87.0           69.0             75.0   \n",
              "27             28         63.0           63.0           66.0             64.0   \n",
              "28             29         78.0           90.0           72.0             80.0   \n",
              "29             30         96.0           83.0           79.0             86.0   \n",
              "30             31         96.0           82.0           61.0             80.0   \n",
              "31             32         19.0           81.0           69.0             56.0   \n",
              "32             33         99.0           96.0           63.0             86.0   \n",
              "33             34         64.0           99.0           86.0             83.0   \n",
              "34             35         92.0           97.0           66.0             85.0   \n",
              "35             36         74.0           71.0           91.0             79.0   \n",
              "36             37         65.0           98.0           72.0              NaN   \n",
              "37             38         68.0           13.0           76.0             52.0   \n",
              "38             39         67.0           81.0           89.0             79.0   \n",
              "39             40         85.0           78.0           80.0             81.0   \n",
              "40             41         68.0           96.0           75.0             80.0   \n",
              "41             42          NaN           81.0           62.0             72.0   \n",
              "42             43         76.0           91.0           92.0             86.0   \n",
              "43             44         95.0           63.0           80.0             79.0   \n",
              "44             45         89.0           90.0           60.0             80.0   \n",
              "45             46         98.0            NaN           98.0             98.0   \n",
              "46             47         84.0           84.0           61.0             76.0   \n",
              "47             48         74.0           63.0           85.0             74.0   \n",
              "48             49         74.0           66.0           90.0             77.0   \n",
              "49             50         71.0           78.0           64.0             71.0   \n",
              "\n",
              "    Placement offer count  \n",
              "0                       2  \n",
              "1                       2  \n",
              "2                       1  \n",
              "3                       0  \n",
              "4                       3  \n",
              "5                       2  \n",
              "6                       2  \n",
              "7                       1  \n",
              "8                       2  \n",
              "9                       2  \n",
              "10                      2  \n",
              "11                      3  \n",
              "12                      3  \n",
              "13                      2  \n",
              "14                      0  \n",
              "15                      3  \n",
              "16                      2  \n",
              "17                      1  \n",
              "18                      1  \n",
              "19                      2  \n",
              "20                      1  \n",
              "21                      2  \n",
              "22                      1  \n",
              "23                      1  \n",
              "24                      1  \n",
              "25                      3  \n",
              "26                      1  \n",
              "27                      1  \n",
              "28                      2  \n",
              "29                      2  \n",
              "30                      2  \n",
              "31                      0  \n",
              "32                      2  \n",
              "33                      2  \n",
              "34                      2  \n",
              "35                      1  \n",
              "36                      0  \n",
              "37                      0  \n",
              "38                      1  \n",
              "39                      2  \n",
              "40                      2  \n",
              "41                      1  \n",
              "42                      2  \n",
              "43                      1  \n",
              "44                      2  \n",
              "45                      3  \n",
              "46                      1  \n",
              "47                      1  \n",
              "48                      1  \n",
              "49                      1  "
            ],
            "text/html": [
              "\n",
              "  <div id=\"df-20c71d5e-b01b-49da-a7c0-31a007734f2c\">\n",
              "    <div class=\"colab-df-container\">\n",
              "      <div>\n",
              "<style scoped>\n",
              "    .dataframe tbody tr th:only-of-type {\n",
              "        vertical-align: middle;\n",
              "    }\n",
              "\n",
              "    .dataframe tbody tr th {\n",
              "        vertical-align: top;\n",
              "    }\n",
              "\n",
              "    .dataframe thead th {\n",
              "        text-align: right;\n",
              "    }\n",
              "</style>\n",
              "<table border=\"1\" class=\"dataframe\">\n",
              "  <thead>\n",
              "    <tr style=\"text-align: right;\">\n",
              "      <th></th>\n",
              "      <th>Stud_Roll_no.</th>\n",
              "      <th>Maths_Score</th>\n",
              "      <th>Reading_Score</th>\n",
              "      <th>Writing_Score</th>\n",
              "      <th>Placement_Score</th>\n",
              "      <th>Placement offer count</th>\n",
              "    </tr>\n",
              "  </thead>\n",
              "  <tbody>\n",
              "    <tr>\n",
              "      <th>0</th>\n",
              "      <td>1</td>\n",
              "      <td>82.0</td>\n",
              "      <td>64.0</td>\n",
              "      <td>98.0</td>\n",
              "      <td>81.0</td>\n",
              "      <td>2</td>\n",
              "    </tr>\n",
              "    <tr>\n",
              "      <th>1</th>\n",
              "      <td>2</td>\n",
              "      <td>74.0</td>\n",
              "      <td>86.0</td>\n",
              "      <td>98.0</td>\n",
              "      <td>86.0</td>\n",
              "      <td>2</td>\n",
              "    </tr>\n",
              "    <tr>\n",
              "      <th>2</th>\n",
              "      <td>3</td>\n",
              "      <td>76.0</td>\n",
              "      <td>83.0</td>\n",
              "      <td>76.0</td>\n",
              "      <td>78.0</td>\n",
              "      <td>1</td>\n",
              "    </tr>\n",
              "    <tr>\n",
              "      <th>3</th>\n",
              "      <td>4</td>\n",
              "      <td>25.0</td>\n",
              "      <td>73.0</td>\n",
              "      <td>77.0</td>\n",
              "      <td>58.0</td>\n",
              "      <td>0</td>\n",
              "    </tr>\n",
              "    <tr>\n",
              "      <th>4</th>\n",
              "      <td>5</td>\n",
              "      <td>93.0</td>\n",
              "      <td>95.0</td>\n",
              "      <td>86.0</td>\n",
              "      <td>91.0</td>\n",
              "      <td>3</td>\n",
              "    </tr>\n",
              "    <tr>\n",
              "      <th>5</th>\n",
              "      <td>6</td>\n",
              "      <td>75.0</td>\n",
              "      <td>83.0</td>\n",
              "      <td>97.0</td>\n",
              "      <td>85.0</td>\n",
              "      <td>2</td>\n",
              "    </tr>\n",
              "    <tr>\n",
              "      <th>6</th>\n",
              "      <td>7</td>\n",
              "      <td>83.0</td>\n",
              "      <td>84.0</td>\n",
              "      <td>91.0</td>\n",
              "      <td>86.0</td>\n",
              "      <td>2</td>\n",
              "    </tr>\n",
              "    <tr>\n",
              "      <th>7</th>\n",
              "      <td>8</td>\n",
              "      <td>72.0</td>\n",
              "      <td>90.0</td>\n",
              "      <td>71.0</td>\n",
              "      <td>78.0</td>\n",
              "      <td>1</td>\n",
              "    </tr>\n",
              "    <tr>\n",
              "      <th>8</th>\n",
              "      <td>9</td>\n",
              "      <td>86.0</td>\n",
              "      <td>88.0</td>\n",
              "      <td>94.0</td>\n",
              "      <td>89.0</td>\n",
              "      <td>2</td>\n",
              "    </tr>\n",
              "    <tr>\n",
              "      <th>9</th>\n",
              "      <td>10</td>\n",
              "      <td>92.0</td>\n",
              "      <td>76.0</td>\n",
              "      <td>98.0</td>\n",
              "      <td>89.0</td>\n",
              "      <td>2</td>\n",
              "    </tr>\n",
              "    <tr>\n",
              "      <th>10</th>\n",
              "      <td>11</td>\n",
              "      <td>87.0</td>\n",
              "      <td>87.0</td>\n",
              "      <td>NaN</td>\n",
              "      <td>87.0</td>\n",
              "      <td>2</td>\n",
              "    </tr>\n",
              "    <tr>\n",
              "      <th>11</th>\n",
              "      <td>12</td>\n",
              "      <td>97.0</td>\n",
              "      <td>97.0</td>\n",
              "      <td>94.0</td>\n",
              "      <td>96.0</td>\n",
              "      <td>3</td>\n",
              "    </tr>\n",
              "    <tr>\n",
              "      <th>12</th>\n",
              "      <td>13</td>\n",
              "      <td>82.0</td>\n",
              "      <td>93.0</td>\n",
              "      <td>95.0</td>\n",
              "      <td>90.0</td>\n",
              "      <td>3</td>\n",
              "    </tr>\n",
              "    <tr>\n",
              "      <th>13</th>\n",
              "      <td>14</td>\n",
              "      <td>89.0</td>\n",
              "      <td>83.0</td>\n",
              "      <td>88.0</td>\n",
              "      <td>87.0</td>\n",
              "      <td>2</td>\n",
              "    </tr>\n",
              "    <tr>\n",
              "      <th>14</th>\n",
              "      <td>15</td>\n",
              "      <td>32.0</td>\n",
              "      <td>26.0</td>\n",
              "      <td>29.0</td>\n",
              "      <td>29.0</td>\n",
              "      <td>0</td>\n",
              "    </tr>\n",
              "    <tr>\n",
              "      <th>15</th>\n",
              "      <td>16</td>\n",
              "      <td>99.0</td>\n",
              "      <td>96.0</td>\n",
              "      <td>80.0</td>\n",
              "      <td>92.0</td>\n",
              "      <td>3</td>\n",
              "    </tr>\n",
              "    <tr>\n",
              "      <th>16</th>\n",
              "      <td>17</td>\n",
              "      <td>73.0</td>\n",
              "      <td>86.0</td>\n",
              "      <td>83.0</td>\n",
              "      <td>81.0</td>\n",
              "      <td>2</td>\n",
              "    </tr>\n",
              "    <tr>\n",
              "      <th>17</th>\n",
              "      <td>18</td>\n",
              "      <td>71.0</td>\n",
              "      <td>65.0</td>\n",
              "      <td>78.0</td>\n",
              "      <td>71.0</td>\n",
              "      <td>1</td>\n",
              "    </tr>\n",
              "    <tr>\n",
              "      <th>18</th>\n",
              "      <td>19</td>\n",
              "      <td>71.0</td>\n",
              "      <td>88.0</td>\n",
              "      <td>74.0</td>\n",
              "      <td>78.0</td>\n",
              "      <td>1</td>\n",
              "    </tr>\n",
              "    <tr>\n",
              "      <th>19</th>\n",
              "      <td>20</td>\n",
              "      <td>63.0</td>\n",
              "      <td>86.0</td>\n",
              "      <td>94.0</td>\n",
              "      <td>81.0</td>\n",
              "      <td>2</td>\n",
              "    </tr>\n",
              "    <tr>\n",
              "      <th>20</th>\n",
              "      <td>21</td>\n",
              "      <td>68.0</td>\n",
              "      <td>76.0</td>\n",
              "      <td>81.0</td>\n",
              "      <td>75.0</td>\n",
              "      <td>1</td>\n",
              "    </tr>\n",
              "    <tr>\n",
              "      <th>21</th>\n",
              "      <td>22</td>\n",
              "      <td>73.0</td>\n",
              "      <td>93.0</td>\n",
              "      <td>73.0</td>\n",
              "      <td>80.0</td>\n",
              "      <td>2</td>\n",
              "    </tr>\n",
              "    <tr>\n",
              "      <th>22</th>\n",
              "      <td>23</td>\n",
              "      <td>90.0</td>\n",
              "      <td>69.0</td>\n",
              "      <td>61.0</td>\n",
              "      <td>73.0</td>\n",
              "      <td>1</td>\n",
              "    </tr>\n",
              "    <tr>\n",
              "      <th>23</th>\n",
              "      <td>24</td>\n",
              "      <td>NaN</td>\n",
              "      <td>66.0</td>\n",
              "      <td>79.0</td>\n",
              "      <td>73.0</td>\n",
              "      <td>1</td>\n",
              "    </tr>\n",
              "    <tr>\n",
              "      <th>24</th>\n",
              "      <td>25</td>\n",
              "      <td>97.0</td>\n",
              "      <td>63.0</td>\n",
              "      <td>67.0</td>\n",
              "      <td>76.0</td>\n",
              "      <td>1</td>\n",
              "    </tr>\n",
              "    <tr>\n",
              "      <th>25</th>\n",
              "      <td>26</td>\n",
              "      <td>85.0</td>\n",
              "      <td>96.0</td>\n",
              "      <td>99.0</td>\n",
              "      <td>93.0</td>\n",
              "      <td>3</td>\n",
              "    </tr>\n",
              "    <tr>\n",
              "      <th>26</th>\n",
              "      <td>27</td>\n",
              "      <td>69.0</td>\n",
              "      <td>87.0</td>\n",
              "      <td>69.0</td>\n",
              "      <td>75.0</td>\n",
              "      <td>1</td>\n",
              "    </tr>\n",
              "    <tr>\n",
              "      <th>27</th>\n",
              "      <td>28</td>\n",
              "      <td>63.0</td>\n",
              "      <td>63.0</td>\n",
              "      <td>66.0</td>\n",
              "      <td>64.0</td>\n",
              "      <td>1</td>\n",
              "    </tr>\n",
              "    <tr>\n",
              "      <th>28</th>\n",
              "      <td>29</td>\n",
              "      <td>78.0</td>\n",
              "      <td>90.0</td>\n",
              "      <td>72.0</td>\n",
              "      <td>80.0</td>\n",
              "      <td>2</td>\n",
              "    </tr>\n",
              "    <tr>\n",
              "      <th>29</th>\n",
              "      <td>30</td>\n",
              "      <td>96.0</td>\n",
              "      <td>83.0</td>\n",
              "      <td>79.0</td>\n",
              "      <td>86.0</td>\n",
              "      <td>2</td>\n",
              "    </tr>\n",
              "    <tr>\n",
              "      <th>30</th>\n",
              "      <td>31</td>\n",
              "      <td>96.0</td>\n",
              "      <td>82.0</td>\n",
              "      <td>61.0</td>\n",
              "      <td>80.0</td>\n",
              "      <td>2</td>\n",
              "    </tr>\n",
              "    <tr>\n",
              "      <th>31</th>\n",
              "      <td>32</td>\n",
              "      <td>19.0</td>\n",
              "      <td>81.0</td>\n",
              "      <td>69.0</td>\n",
              "      <td>56.0</td>\n",
              "      <td>0</td>\n",
              "    </tr>\n",
              "    <tr>\n",
              "      <th>32</th>\n",
              "      <td>33</td>\n",
              "      <td>99.0</td>\n",
              "      <td>96.0</td>\n",
              "      <td>63.0</td>\n",
              "      <td>86.0</td>\n",
              "      <td>2</td>\n",
              "    </tr>\n",
              "    <tr>\n",
              "      <th>33</th>\n",
              "      <td>34</td>\n",
              "      <td>64.0</td>\n",
              "      <td>99.0</td>\n",
              "      <td>86.0</td>\n",
              "      <td>83.0</td>\n",
              "      <td>2</td>\n",
              "    </tr>\n",
              "    <tr>\n",
              "      <th>34</th>\n",
              "      <td>35</td>\n",
              "      <td>92.0</td>\n",
              "      <td>97.0</td>\n",
              "      <td>66.0</td>\n",
              "      <td>85.0</td>\n",
              "      <td>2</td>\n",
              "    </tr>\n",
              "    <tr>\n",
              "      <th>35</th>\n",
              "      <td>36</td>\n",
              "      <td>74.0</td>\n",
              "      <td>71.0</td>\n",
              "      <td>91.0</td>\n",
              "      <td>79.0</td>\n",
              "      <td>1</td>\n",
              "    </tr>\n",
              "    <tr>\n",
              "      <th>36</th>\n",
              "      <td>37</td>\n",
              "      <td>65.0</td>\n",
              "      <td>98.0</td>\n",
              "      <td>72.0</td>\n",
              "      <td>NaN</td>\n",
              "      <td>0</td>\n",
              "    </tr>\n",
              "    <tr>\n",
              "      <th>37</th>\n",
              "      <td>38</td>\n",
              "      <td>68.0</td>\n",
              "      <td>13.0</td>\n",
              "      <td>76.0</td>\n",
              "      <td>52.0</td>\n",
              "      <td>0</td>\n",
              "    </tr>\n",
              "    <tr>\n",
              "      <th>38</th>\n",
              "      <td>39</td>\n",
              "      <td>67.0</td>\n",
              "      <td>81.0</td>\n",
              "      <td>89.0</td>\n",
              "      <td>79.0</td>\n",
              "      <td>1</td>\n",
              "    </tr>\n",
              "    <tr>\n",
              "      <th>39</th>\n",
              "      <td>40</td>\n",
              "      <td>85.0</td>\n",
              "      <td>78.0</td>\n",
              "      <td>80.0</td>\n",
              "      <td>81.0</td>\n",
              "      <td>2</td>\n",
              "    </tr>\n",
              "    <tr>\n",
              "      <th>40</th>\n",
              "      <td>41</td>\n",
              "      <td>68.0</td>\n",
              "      <td>96.0</td>\n",
              "      <td>75.0</td>\n",
              "      <td>80.0</td>\n",
              "      <td>2</td>\n",
              "    </tr>\n",
              "    <tr>\n",
              "      <th>41</th>\n",
              "      <td>42</td>\n",
              "      <td>NaN</td>\n",
              "      <td>81.0</td>\n",
              "      <td>62.0</td>\n",
              "      <td>72.0</td>\n",
              "      <td>1</td>\n",
              "    </tr>\n",
              "    <tr>\n",
              "      <th>42</th>\n",
              "      <td>43</td>\n",
              "      <td>76.0</td>\n",
              "      <td>91.0</td>\n",
              "      <td>92.0</td>\n",
              "      <td>86.0</td>\n",
              "      <td>2</td>\n",
              "    </tr>\n",
              "    <tr>\n",
              "      <th>43</th>\n",
              "      <td>44</td>\n",
              "      <td>95.0</td>\n",
              "      <td>63.0</td>\n",
              "      <td>80.0</td>\n",
              "      <td>79.0</td>\n",
              "      <td>1</td>\n",
              "    </tr>\n",
              "    <tr>\n",
              "      <th>44</th>\n",
              "      <td>45</td>\n",
              "      <td>89.0</td>\n",
              "      <td>90.0</td>\n",
              "      <td>60.0</td>\n",
              "      <td>80.0</td>\n",
              "      <td>2</td>\n",
              "    </tr>\n",
              "    <tr>\n",
              "      <th>45</th>\n",
              "      <td>46</td>\n",
              "      <td>98.0</td>\n",
              "      <td>NaN</td>\n",
              "      <td>98.0</td>\n",
              "      <td>98.0</td>\n",
              "      <td>3</td>\n",
              "    </tr>\n",
              "    <tr>\n",
              "      <th>46</th>\n",
              "      <td>47</td>\n",
              "      <td>84.0</td>\n",
              "      <td>84.0</td>\n",
              "      <td>61.0</td>\n",
              "      <td>76.0</td>\n",
              "      <td>1</td>\n",
              "    </tr>\n",
              "    <tr>\n",
              "      <th>47</th>\n",
              "      <td>48</td>\n",
              "      <td>74.0</td>\n",
              "      <td>63.0</td>\n",
              "      <td>85.0</td>\n",
              "      <td>74.0</td>\n",
              "      <td>1</td>\n",
              "    </tr>\n",
              "    <tr>\n",
              "      <th>48</th>\n",
              "      <td>49</td>\n",
              "      <td>74.0</td>\n",
              "      <td>66.0</td>\n",
              "      <td>90.0</td>\n",
              "      <td>77.0</td>\n",
              "      <td>1</td>\n",
              "    </tr>\n",
              "    <tr>\n",
              "      <th>49</th>\n",
              "      <td>50</td>\n",
              "      <td>71.0</td>\n",
              "      <td>78.0</td>\n",
              "      <td>64.0</td>\n",
              "      <td>71.0</td>\n",
              "      <td>1</td>\n",
              "    </tr>\n",
              "  </tbody>\n",
              "</table>\n",
              "</div>\n",
              "      <button class=\"colab-df-convert\" onclick=\"convertToInteractive('df-20c71d5e-b01b-49da-a7c0-31a007734f2c')\"\n",
              "              title=\"Convert this dataframe to an interactive table.\"\n",
              "              style=\"display:none;\">\n",
              "        \n",
              "  <svg xmlns=\"http://www.w3.org/2000/svg\" height=\"24px\"viewBox=\"0 0 24 24\"\n",
              "       width=\"24px\">\n",
              "    <path d=\"M0 0h24v24H0V0z\" fill=\"none\"/>\n",
              "    <path d=\"M18.56 5.44l.94 2.06.94-2.06 2.06-.94-2.06-.94-.94-2.06-.94 2.06-2.06.94zm-11 1L8.5 8.5l.94-2.06 2.06-.94-2.06-.94L8.5 2.5l-.94 2.06-2.06.94zm10 10l.94 2.06.94-2.06 2.06-.94-2.06-.94-.94-2.06-.94 2.06-2.06.94z\"/><path d=\"M17.41 7.96l-1.37-1.37c-.4-.4-.92-.59-1.43-.59-.52 0-1.04.2-1.43.59L10.3 9.45l-7.72 7.72c-.78.78-.78 2.05 0 2.83L4 21.41c.39.39.9.59 1.41.59.51 0 1.02-.2 1.41-.59l7.78-7.78 2.81-2.81c.8-.78.8-2.07 0-2.86zM5.41 20L4 18.59l7.72-7.72 1.47 1.35L5.41 20z\"/>\n",
              "  </svg>\n",
              "      </button>\n",
              "      \n",
              "  <style>\n",
              "    .colab-df-container {\n",
              "      display:flex;\n",
              "      flex-wrap:wrap;\n",
              "      gap: 12px;\n",
              "    }\n",
              "\n",
              "    .colab-df-convert {\n",
              "      background-color: #E8F0FE;\n",
              "      border: none;\n",
              "      border-radius: 50%;\n",
              "      cursor: pointer;\n",
              "      display: none;\n",
              "      fill: #1967D2;\n",
              "      height: 32px;\n",
              "      padding: 0 0 0 0;\n",
              "      width: 32px;\n",
              "    }\n",
              "\n",
              "    .colab-df-convert:hover {\n",
              "      background-color: #E2EBFA;\n",
              "      box-shadow: 0px 1px 2px rgba(60, 64, 67, 0.3), 0px 1px 3px 1px rgba(60, 64, 67, 0.15);\n",
              "      fill: #174EA6;\n",
              "    }\n",
              "\n",
              "    [theme=dark] .colab-df-convert {\n",
              "      background-color: #3B4455;\n",
              "      fill: #D2E3FC;\n",
              "    }\n",
              "\n",
              "    [theme=dark] .colab-df-convert:hover {\n",
              "      background-color: #434B5C;\n",
              "      box-shadow: 0px 1px 3px 1px rgba(0, 0, 0, 0.15);\n",
              "      filter: drop-shadow(0px 1px 2px rgba(0, 0, 0, 0.3));\n",
              "      fill: #FFFFFF;\n",
              "    }\n",
              "  </style>\n",
              "\n",
              "      <script>\n",
              "        const buttonEl =\n",
              "          document.querySelector('#df-20c71d5e-b01b-49da-a7c0-31a007734f2c button.colab-df-convert');\n",
              "        buttonEl.style.display =\n",
              "          google.colab.kernel.accessAllowed ? 'block' : 'none';\n",
              "\n",
              "        async function convertToInteractive(key) {\n",
              "          const element = document.querySelector('#df-20c71d5e-b01b-49da-a7c0-31a007734f2c');\n",
              "          const dataTable =\n",
              "            await google.colab.kernel.invokeFunction('convertToInteractive',\n",
              "                                                     [key], {});\n",
              "          if (!dataTable) return;\n",
              "\n",
              "          const docLinkHtml = 'Like what you see? Visit the ' +\n",
              "            '<a target=\"_blank\" href=https://colab.research.google.com/notebooks/data_table.ipynb>data table notebook</a>'\n",
              "            + ' to learn more about interactive tables.';\n",
              "          element.innerHTML = '';\n",
              "          dataTable['output_type'] = 'display_data';\n",
              "          await google.colab.output.renderOutput(dataTable, element);\n",
              "          const docLink = document.createElement('div');\n",
              "          docLink.innerHTML = docLinkHtml;\n",
              "          element.appendChild(docLink);\n",
              "        }\n",
              "      </script>\n",
              "    </div>\n",
              "  </div>\n",
              "  "
            ]
          },
          "metadata": {},
          "execution_count": 1
        }
      ],
      "source": [
        "import pandas as pd\n",
        "sk=pd.read_csv(\"/content/drive/MyDrive/Assignment 2/Students_Record.csv\")\n",
        "sk"
      ]
    },
    {
      "cell_type": "markdown",
      "source": [
        "### **Calculate the Mean of each column**"
      ],
      "metadata": {
        "id": "--UPVwWpj5iw"
      }
    },
    {
      "cell_type": "code",
      "source": [
        "mean1=sk['Maths_Score'].mean()\n",
        "mean1"
      ],
      "metadata": {
        "colab": {
          "base_uri": "https://localhost:8080/"
        },
        "id": "PdC_GmTUkF5D",
        "outputId": "1bed19ea-bd07-4db5-d19d-1e5a9700faf6"
      },
      "execution_count": 2,
      "outputs": [
        {
          "output_type": "execute_result",
          "data": {
            "text/plain": [
              "77.0625"
            ]
          },
          "metadata": {},
          "execution_count": 2
        }
      ]
    },
    {
      "cell_type": "code",
      "source": [
        "mean2=sk['Reading_Score'].mean()\n",
        "mean2"
      ],
      "metadata": {
        "colab": {
          "base_uri": "https://localhost:8080/"
        },
        "id": "nLyG3A4UkRSs",
        "outputId": "d04d6c34-2c63-4bba-b268-a6e313479783"
      },
      "execution_count": 3,
      "outputs": [
        {
          "output_type": "execute_result",
          "data": {
            "text/plain": [
              "80.06122448979592"
            ]
          },
          "metadata": {},
          "execution_count": 3
        }
      ]
    },
    {
      "cell_type": "code",
      "source": [
        "mean3=sk['Writing_Score'].mean()\n",
        "mean3"
      ],
      "metadata": {
        "colab": {
          "base_uri": "https://localhost:8080/"
        },
        "id": "GtaTAcnEkVso",
        "outputId": "f82b3925-efae-44d0-8123-ce26ba7b0b55"
      },
      "execution_count": 4,
      "outputs": [
        {
          "output_type": "execute_result",
          "data": {
            "text/plain": [
              "78.91836734693878"
            ]
          },
          "metadata": {},
          "execution_count": 4
        }
      ]
    },
    {
      "cell_type": "code",
      "source": [
        "mean4=sk['Placement_Score'].mean()\n",
        "mean4"
      ],
      "metadata": {
        "colab": {
          "base_uri": "https://localhost:8080/"
        },
        "id": "9mfCJnB0kZ5E",
        "outputId": "0196322d-54a7-4b39-acf7-ce86651b7b2e"
      },
      "execution_count": 5,
      "outputs": [
        {
          "output_type": "execute_result",
          "data": {
            "text/plain": [
              "78.81632653061224"
            ]
          },
          "metadata": {},
          "execution_count": 5
        }
      ]
    },
    {
      "cell_type": "code",
      "source": [
        "mean5=sk['Placement offer count'].mean()\n",
        "mean5"
      ],
      "metadata": {
        "colab": {
          "base_uri": "https://localhost:8080/"
        },
        "id": "jMNUxhTnkefj",
        "outputId": "38fde64e-9fad-4484-99ee-36f44786da80"
      },
      "execution_count": 6,
      "outputs": [
        {
          "output_type": "execute_result",
          "data": {
            "text/plain": [
              "1.56"
            ]
          },
          "metadata": {},
          "execution_count": 6
        }
      ]
    },
    {
      "cell_type": "markdown",
      "source": [
        "### **Next we calculate the Median of each column**"
      ],
      "metadata": {
        "id": "7UUjJqzdkkC3"
      }
    },
    {
      "cell_type": "code",
      "source": [
        "median1=sk['Maths_Score'].median()\n",
        "median1"
      ],
      "metadata": {
        "colab": {
          "base_uri": "https://localhost:8080/"
        },
        "id": "I6uViUxAkikK",
        "outputId": "b38321ca-5a54-4a37-a5a4-428e08bf7e87"
      },
      "execution_count": 7,
      "outputs": [
        {
          "output_type": "execute_result",
          "data": {
            "text/plain": [
              "76.0"
            ]
          },
          "metadata": {},
          "execution_count": 7
        }
      ]
    },
    {
      "cell_type": "code",
      "source": [
        "median2=sk['Reading_Score'].median()\n",
        "median2"
      ],
      "metadata": {
        "colab": {
          "base_uri": "https://localhost:8080/"
        },
        "id": "0mDkIU4bkzlL",
        "outputId": "8f07a82d-b18b-49ef-c623-13ffc600b879"
      },
      "execution_count": 8,
      "outputs": [
        {
          "output_type": "execute_result",
          "data": {
            "text/plain": [
              "83.0"
            ]
          },
          "metadata": {},
          "execution_count": 8
        }
      ]
    },
    {
      "cell_type": "code",
      "source": [
        "median3=sk['Writing_Score'].median()\n",
        "median3"
      ],
      "metadata": {
        "colab": {
          "base_uri": "https://localhost:8080/"
        },
        "id": "Vt7Wb7vak9yi",
        "outputId": "3306d3ad-4ca0-4875-83c7-38858e6b3432"
      },
      "execution_count": 9,
      "outputs": [
        {
          "output_type": "execute_result",
          "data": {
            "text/plain": [
              "79.0"
            ]
          },
          "metadata": {},
          "execution_count": 9
        }
      ]
    },
    {
      "cell_type": "code",
      "source": [
        "median4=sk['Placement_Score'].median()\n",
        "median4"
      ],
      "metadata": {
        "colab": {
          "base_uri": "https://localhost:8080/"
        },
        "id": "XLRRlKmVlBtC",
        "outputId": "2ec7bc3f-d8f8-4e00-d95a-643a8a164819"
      },
      "execution_count": 10,
      "outputs": [
        {
          "output_type": "execute_result",
          "data": {
            "text/plain": [
              "80.0"
            ]
          },
          "metadata": {},
          "execution_count": 10
        }
      ]
    },
    {
      "cell_type": "code",
      "source": [
        "median5=sk['Placement offer count'].median()\n",
        "median5"
      ],
      "metadata": {
        "colab": {
          "base_uri": "https://localhost:8080/"
        },
        "id": "SY5sB3YslFS-",
        "outputId": "31f89046-9692-4c82-d83c-73e4a636d2c2"
      },
      "execution_count": 11,
      "outputs": [
        {
          "output_type": "execute_result",
          "data": {
            "text/plain": [
              "2.0"
            ]
          },
          "metadata": {},
          "execution_count": 11
        }
      ]
    },
    {
      "cell_type": "markdown",
      "source": [
        "### **Next we calculate the Minimum Value of each column**"
      ],
      "metadata": {
        "id": "P6wLJS2ilL3Q"
      }
    },
    {
      "cell_type": "code",
      "source": [
        "minimum1=sk['Maths_Score'].min()\n",
        "minimum1"
      ],
      "metadata": {
        "colab": {
          "base_uri": "https://localhost:8080/"
        },
        "id": "VWAB7JBKlJZk",
        "outputId": "71b1ffae-796e-4010-e2f9-7d3c0b5c7969"
      },
      "execution_count": 12,
      "outputs": [
        {
          "output_type": "execute_result",
          "data": {
            "text/plain": [
              "19.0"
            ]
          },
          "metadata": {},
          "execution_count": 12
        }
      ]
    },
    {
      "cell_type": "code",
      "source": [
        "minimum2=sk['Reading_Score'].min()\n",
        "minimum2"
      ],
      "metadata": {
        "colab": {
          "base_uri": "https://localhost:8080/"
        },
        "id": "bDcXHlbPlepz",
        "outputId": "59f9889f-6982-4437-b287-dd6bf2fca9a2"
      },
      "execution_count": 13,
      "outputs": [
        {
          "output_type": "execute_result",
          "data": {
            "text/plain": [
              "13.0"
            ]
          },
          "metadata": {},
          "execution_count": 13
        }
      ]
    },
    {
      "cell_type": "code",
      "source": [
        "minimum3=sk['Writing_Score'].min()\n",
        "minimum3"
      ],
      "metadata": {
        "colab": {
          "base_uri": "https://localhost:8080/"
        },
        "id": "jHuZXRIjlihC",
        "outputId": "20217970-ca2f-482b-b35c-f628faac2cfb"
      },
      "execution_count": 14,
      "outputs": [
        {
          "output_type": "execute_result",
          "data": {
            "text/plain": [
              "29.0"
            ]
          },
          "metadata": {},
          "execution_count": 14
        }
      ]
    },
    {
      "cell_type": "code",
      "source": [
        "minimum4=sk['Placement_Score'].min()\n",
        "minimum4"
      ],
      "metadata": {
        "colab": {
          "base_uri": "https://localhost:8080/"
        },
        "id": "KbR9RlGEllgy",
        "outputId": "3dbfea18-6c5b-4c99-d810-42bca9519ffa"
      },
      "execution_count": 15,
      "outputs": [
        {
          "output_type": "execute_result",
          "data": {
            "text/plain": [
              "29.0"
            ]
          },
          "metadata": {},
          "execution_count": 15
        }
      ]
    },
    {
      "cell_type": "code",
      "source": [
        "minimum5=sk['Placement offer count'].min()\n",
        "minimum5"
      ],
      "metadata": {
        "colab": {
          "base_uri": "https://localhost:8080/"
        },
        "id": "14SZGH7IlpXX",
        "outputId": "a31165ee-362a-4dbd-81e2-1b8e74654007"
      },
      "execution_count": 16,
      "outputs": [
        {
          "output_type": "execute_result",
          "data": {
            "text/plain": [
              "0"
            ]
          },
          "metadata": {},
          "execution_count": 16
        }
      ]
    },
    {
      "cell_type": "markdown",
      "source": [
        "### **Next we calculate the Maximum Value of each column**"
      ],
      "metadata": {
        "id": "fzcaBGpuluA4"
      }
    },
    {
      "cell_type": "code",
      "source": [
        "maximum1=sk['Maths_Score'].max()\n",
        "maximum1"
      ],
      "metadata": {
        "colab": {
          "base_uri": "https://localhost:8080/"
        },
        "id": "QcX1JGh4l55h",
        "outputId": "9a9c9ccf-f38e-44f6-9446-54385441139b"
      },
      "execution_count": 17,
      "outputs": [
        {
          "output_type": "execute_result",
          "data": {
            "text/plain": [
              "99.0"
            ]
          },
          "metadata": {},
          "execution_count": 17
        }
      ]
    },
    {
      "cell_type": "code",
      "source": [
        "maximum2=sk['Reading_Score'].max()\n",
        "maximum2"
      ],
      "metadata": {
        "colab": {
          "base_uri": "https://localhost:8080/"
        },
        "id": "n-a1mGzKlsNO",
        "outputId": "694d63fa-4019-453e-e6d1-3d459b79ce0c"
      },
      "execution_count": 18,
      "outputs": [
        {
          "output_type": "execute_result",
          "data": {
            "text/plain": [
              "99.0"
            ]
          },
          "metadata": {},
          "execution_count": 18
        }
      ]
    },
    {
      "cell_type": "code",
      "source": [
        "maximum3=sk['Writing_Score'].max()\n",
        "maximum3"
      ],
      "metadata": {
        "colab": {
          "base_uri": "https://localhost:8080/"
        },
        "id": "_IPzuKedmCQ5",
        "outputId": "c5f0c0d8-b4f8-4c81-d141-2f851a8faa3e"
      },
      "execution_count": 19,
      "outputs": [
        {
          "output_type": "execute_result",
          "data": {
            "text/plain": [
              "99.0"
            ]
          },
          "metadata": {},
          "execution_count": 19
        }
      ]
    },
    {
      "cell_type": "code",
      "source": [
        "maximum4=sk['Placement_Score'].max()\n",
        "maximum4"
      ],
      "metadata": {
        "colab": {
          "base_uri": "https://localhost:8080/"
        },
        "id": "o8uK96V7mFNV",
        "outputId": "94c9c45c-c93d-491f-c966-d699a9a4abbe"
      },
      "execution_count": 20,
      "outputs": [
        {
          "output_type": "execute_result",
          "data": {
            "text/plain": [
              "98.0"
            ]
          },
          "metadata": {},
          "execution_count": 20
        }
      ]
    },
    {
      "cell_type": "code",
      "source": [
        "maximum5=sk['Placement offer count'].max()\n",
        "maximum5"
      ],
      "metadata": {
        "colab": {
          "base_uri": "https://localhost:8080/"
        },
        "id": "axGtW5temIkN",
        "outputId": "0c2bcc2c-a44e-486a-9d42-676e963cb47e"
      },
      "execution_count": 21,
      "outputs": [
        {
          "output_type": "execute_result",
          "data": {
            "text/plain": [
              "3"
            ]
          },
          "metadata": {},
          "execution_count": 21
        }
      ]
    },
    {
      "cell_type": "markdown",
      "source": [
        "### **Next we calculate the Standard Deviation of each column**"
      ],
      "metadata": {
        "id": "OkEpL7fHmNT2"
      }
    },
    {
      "cell_type": "code",
      "source": [
        "sd1=sk['Maths_Score'].std()\n",
        "sd1"
      ],
      "metadata": {
        "colab": {
          "base_uri": "https://localhost:8080/"
        },
        "id": "5XugD9M1mYnx",
        "outputId": "0c6555a4-a68d-43c5-82ab-6cd9bf0811af"
      },
      "execution_count": 22,
      "outputs": [
        {
          "output_type": "execute_result",
          "data": {
            "text/plain": [
              "17.42754758689865"
            ]
          },
          "metadata": {},
          "execution_count": 22
        }
      ]
    },
    {
      "cell_type": "code",
      "source": [
        "sd2=sk['Reading_Score'].std()\n",
        "sd2"
      ],
      "metadata": {
        "colab": {
          "base_uri": "https://localhost:8080/"
        },
        "id": "uzYCrAwSmMUW",
        "outputId": "0df0ca06-9955-44f6-f1ca-5f37903b8c99"
      },
      "execution_count": 23,
      "outputs": [
        {
          "output_type": "execute_result",
          "data": {
            "text/plain": [
              "16.71128381671262"
            ]
          },
          "metadata": {},
          "execution_count": 23
        }
      ]
    },
    {
      "cell_type": "code",
      "source": [
        "sd3=sk['Writing_Score'].std()\n",
        "sd3"
      ],
      "metadata": {
        "colab": {
          "base_uri": "https://localhost:8080/"
        },
        "id": "Q5qMBRNgmfzw",
        "outputId": "f28eb709-1c39-4bff-e5ad-115e41237ff9"
      },
      "execution_count": 24,
      "outputs": [
        {
          "output_type": "execute_result",
          "data": {
            "text/plain": [
              "14.113877235269014"
            ]
          },
          "metadata": {},
          "execution_count": 24
        }
      ]
    },
    {
      "cell_type": "code",
      "source": [
        "sd4=sk['Placement_Score'].std()\n",
        "sd4"
      ],
      "metadata": {
        "colab": {
          "base_uri": "https://localhost:8080/"
        },
        "id": "cKoQO-MJmjHl",
        "outputId": "36e39d35-8d74-486e-dd03-fda669b83e70"
      },
      "execution_count": 25,
      "outputs": [
        {
          "output_type": "execute_result",
          "data": {
            "text/plain": [
              "11.828062445916059"
            ]
          },
          "metadata": {},
          "execution_count": 25
        }
      ]
    },
    {
      "cell_type": "code",
      "source": [
        "sd5=sk['Placement offer count'].std()\n",
        "sd5"
      ],
      "metadata": {
        "colab": {
          "base_uri": "https://localhost:8080/"
        },
        "id": "BxbmPVOwmpPC",
        "outputId": "e404a2d3-1c60-4431-e425-1e09bdfbb0d0"
      },
      "execution_count": 27,
      "outputs": [
        {
          "output_type": "execute_result",
          "data": {
            "text/plain": [
              "0.8369039151929607"
            ]
          },
          "metadata": {},
          "execution_count": 27
        }
      ]
    }
  ]
}